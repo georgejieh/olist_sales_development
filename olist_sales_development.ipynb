{
 "cells": [
  {
   "cell_type": "markdown",
   "id": "b97c22ea",
   "metadata": {},
   "source": [
    "# Olist Marketplace Data Analysis\n",
    "\n",
    "## Project Overview\n",
    "Welcome to the Olist Marketplace Data Analysis Project. Olist, as the largest online marketplace in Brazil, is undergoing a comprehensive performance review. Our objective is to delve into the rich dataset of Olist's operations, analyze past performances, and uncover areas for potential growth.\n",
    "\n",
    "In this Jupyter Notebook, we will explore various facets of Olist's business data, focusing on key aspects like sales volumes, buyer-seller relationships, and product category performances.\n",
    "\n",
    "## Goals\n",
    "- **Assess Buyer-Seller Dynamics**: Explore the geographical distribution and relationship between buyers and sellers.\n",
    "- **Identify Growth Opportunities**: Analyze sales volume trends across different product categories and identify high-potential products.\n",
    "- **Optimize Marketplace Reach**: Using data-driven insights, pinpoint 'commerce dead zones' to strategize future expansions.\n",
    "\n",
    "## Data\n",
    "The dataset includes valuable information such as:\n",
    "- Product prices and shipping costs\n",
    "- Seller and buyer locations\n",
    "- Product details (dimensions, photos, category)\n",
    "- Customer review scores\n",
    "- Order statuses and timestamps\n",
    "\n",
    "**Note**: Each order in the dataset can contain multiple products, adding complexity to our analysis.\n",
    "\n",
    "## Approach\n",
    "Our approach involves a mix of exploratory data analysis, statistical testing, and predictive modeling. We'll use Python and its powerful data analysis libraries to process, analyze, and visualize the data."
   ]
  },
  {
   "cell_type": "markdown",
   "id": "79fab0e9",
   "metadata": {},
   "source": [
    "## Import Dependencies"
   ]
  },
  {
   "cell_type": "code",
   "execution_count": 2,
   "id": "327a5639",
   "metadata": {},
   "outputs": [],
   "source": [
    "import pandas as pd\n",
    "import numpy as np\n",
    "import matplotlib.pyplot as plt\n",
    "import seaborn as sns\n",
    "import folium\n",
    "from folium.plugins import MarkerCluster\n",
    "from IPython.display import IFrame\n",
    "import scipy.stats as stats\n",
    "from scipy.stats import chi2_contingency\n",
    "import statsmodels.api as sm\n",
    "from statsmodels.formula.api import ols\n",
    "from statsmodels.stats.multicomp import pairwise_tukeyhsd\n",
    "from sklearn.cluster import DBSCAN\n",
    "import warnings"
   ]
  },
  {
   "cell_type": "markdown",
   "id": "add6e2c5",
   "metadata": {},
   "source": [
    "## Inspecting Data and Cleaning Data"
   ]
  },
  {
   "cell_type": "code",
   "execution_count": 2,
   "id": "1d20df37",
   "metadata": {},
   "outputs": [
    {
     "data": {
      "text/html": [
       "<div>\n",
       "<style scoped>\n",
       "    .dataframe tbody tr th:only-of-type {\n",
       "        vertical-align: middle;\n",
       "    }\n",
       "\n",
       "    .dataframe tbody tr th {\n",
       "        vertical-align: top;\n",
       "    }\n",
       "\n",
       "    .dataframe thead th {\n",
       "        text-align: right;\n",
       "    }\n",
       "</style>\n",
       "<table border=\"1\" class=\"dataframe\">\n",
       "  <thead>\n",
       "    <tr style=\"text-align: right;\">\n",
       "      <th></th>\n",
       "      <th>order_id</th>\n",
       "      <th>customer_id</th>\n",
       "      <th>product_id</th>\n",
       "      <th>seller_id</th>\n",
       "      <th>order_item_id</th>\n",
       "      <th>shipping_limit_date</th>\n",
       "      <th>price</th>\n",
       "      <th>freight_value</th>\n",
       "      <th>seller_zip_code_prefix</th>\n",
       "      <th>seller_city</th>\n",
       "      <th>...</th>\n",
       "      <th>customer_city</th>\n",
       "      <th>customer_state</th>\n",
       "      <th>payment_installments</th>\n",
       "      <th>review_score</th>\n",
       "      <th>order_status</th>\n",
       "      <th>order_purchase_timestamp</th>\n",
       "      <th>order_approved_at</th>\n",
       "      <th>order_delivered_carrier_date</th>\n",
       "      <th>order_delivered_customer_date</th>\n",
       "      <th>order_estimated_delivery_date</th>\n",
       "    </tr>\n",
       "  </thead>\n",
       "  <tbody>\n",
       "    <tr>\n",
       "      <th>0</th>\n",
       "      <td>00010242fe8c5a6d1ba2dd792cb16214</td>\n",
       "      <td>3ce436f183e68e07877b285a838db11a</td>\n",
       "      <td>4244733e06e7ecb4970a6e2683c13e61</td>\n",
       "      <td>48436dade18ac8b2bce089ec2a041202</td>\n",
       "      <td>1</td>\n",
       "      <td>2017-09-19 09:45:35</td>\n",
       "      <td>58.90</td>\n",
       "      <td>13.29</td>\n",
       "      <td>27277</td>\n",
       "      <td>volta redonda</td>\n",
       "      <td>...</td>\n",
       "      <td>campos dos goytacazes</td>\n",
       "      <td>RJ</td>\n",
       "      <td>2.0</td>\n",
       "      <td>5.0</td>\n",
       "      <td>delivered</td>\n",
       "      <td>2017-09-13 08:59:02</td>\n",
       "      <td>2017-09-13 09:45:35</td>\n",
       "      <td>2017-09-19 18:34:16</td>\n",
       "      <td>2017-09-20 23:43:48</td>\n",
       "      <td>2017-09-29 00:00:00</td>\n",
       "    </tr>\n",
       "    <tr>\n",
       "      <th>1</th>\n",
       "      <td>00018f77f2f0320c557190d7a144bdd3</td>\n",
       "      <td>f6dd3ec061db4e3987629fe6b26e5cce</td>\n",
       "      <td>e5f2d52b802189ee658865ca93d83a8f</td>\n",
       "      <td>dd7ddc04e1b6c2c614352b383efe2d36</td>\n",
       "      <td>1</td>\n",
       "      <td>2017-05-03 11:05:13</td>\n",
       "      <td>239.90</td>\n",
       "      <td>19.93</td>\n",
       "      <td>3471</td>\n",
       "      <td>sao paulo</td>\n",
       "      <td>...</td>\n",
       "      <td>santa fe do sul</td>\n",
       "      <td>SP</td>\n",
       "      <td>3.0</td>\n",
       "      <td>4.0</td>\n",
       "      <td>delivered</td>\n",
       "      <td>2017-04-26 10:53:06</td>\n",
       "      <td>2017-04-26 11:05:13</td>\n",
       "      <td>2017-05-04 14:35:00</td>\n",
       "      <td>2017-05-12 16:04:24</td>\n",
       "      <td>2017-05-15 00:00:00</td>\n",
       "    </tr>\n",
       "    <tr>\n",
       "      <th>2</th>\n",
       "      <td>000229ec398224ef6ca0657da4fc703e</td>\n",
       "      <td>6489ae5e4333f3693df5ad4372dab6d3</td>\n",
       "      <td>c777355d18b72b67abbeef9df44fd0fd</td>\n",
       "      <td>5b51032eddd242adc84c38acab88f23d</td>\n",
       "      <td>1</td>\n",
       "      <td>2018-01-18 14:48:30</td>\n",
       "      <td>199.00</td>\n",
       "      <td>17.87</td>\n",
       "      <td>37564</td>\n",
       "      <td>borda da mata</td>\n",
       "      <td>...</td>\n",
       "      <td>para de minas</td>\n",
       "      <td>MG</td>\n",
       "      <td>5.0</td>\n",
       "      <td>5.0</td>\n",
       "      <td>delivered</td>\n",
       "      <td>2018-01-14 14:33:31</td>\n",
       "      <td>2018-01-14 14:48:30</td>\n",
       "      <td>2018-01-16 12:36:48</td>\n",
       "      <td>2018-01-22 13:19:16</td>\n",
       "      <td>2018-02-05 00:00:00</td>\n",
       "    </tr>\n",
       "    <tr>\n",
       "      <th>3</th>\n",
       "      <td>00024acbcdf0a6daa1e931b038114c75</td>\n",
       "      <td>d4eb9395c8c0431ee92fce09860c5a06</td>\n",
       "      <td>7634da152a4610f1595efa32f14722fc</td>\n",
       "      <td>9d7a1d34a5052409006425275ba1c2b4</td>\n",
       "      <td>1</td>\n",
       "      <td>2018-08-15 10:10:18</td>\n",
       "      <td>12.99</td>\n",
       "      <td>12.79</td>\n",
       "      <td>14403</td>\n",
       "      <td>franca</td>\n",
       "      <td>...</td>\n",
       "      <td>atibaia</td>\n",
       "      <td>SP</td>\n",
       "      <td>2.0</td>\n",
       "      <td>4.0</td>\n",
       "      <td>delivered</td>\n",
       "      <td>2018-08-08 10:00:35</td>\n",
       "      <td>2018-08-08 10:10:18</td>\n",
       "      <td>2018-08-10 13:28:00</td>\n",
       "      <td>2018-08-14 13:32:39</td>\n",
       "      <td>2018-08-20 00:00:00</td>\n",
       "    </tr>\n",
       "    <tr>\n",
       "      <th>4</th>\n",
       "      <td>00042b26cf59d7ce69dfabb4e55b4fd9</td>\n",
       "      <td>58dbd0b2d70206bf40e62cd34e84d795</td>\n",
       "      <td>ac6c3623068f30de03045865e4e10089</td>\n",
       "      <td>df560393f3a51e74553ab94004ba5c87</td>\n",
       "      <td>1</td>\n",
       "      <td>2017-02-13 13:57:51</td>\n",
       "      <td>199.90</td>\n",
       "      <td>18.14</td>\n",
       "      <td>87900</td>\n",
       "      <td>loanda</td>\n",
       "      <td>...</td>\n",
       "      <td>varzea paulista</td>\n",
       "      <td>SP</td>\n",
       "      <td>3.0</td>\n",
       "      <td>5.0</td>\n",
       "      <td>delivered</td>\n",
       "      <td>2017-02-04 13:57:51</td>\n",
       "      <td>2017-02-04 14:10:13</td>\n",
       "      <td>2017-02-16 09:46:09</td>\n",
       "      <td>2017-03-01 16:42:31</td>\n",
       "      <td>2017-03-17 00:00:00</td>\n",
       "    </tr>\n",
       "  </tbody>\n",
       "</table>\n",
       "<p>5 rows × 33 columns</p>\n",
       "</div>"
      ],
      "text/plain": [
       "                           order_id                       customer_id  \\\n",
       "0  00010242fe8c5a6d1ba2dd792cb16214  3ce436f183e68e07877b285a838db11a   \n",
       "1  00018f77f2f0320c557190d7a144bdd3  f6dd3ec061db4e3987629fe6b26e5cce   \n",
       "2  000229ec398224ef6ca0657da4fc703e  6489ae5e4333f3693df5ad4372dab6d3   \n",
       "3  00024acbcdf0a6daa1e931b038114c75  d4eb9395c8c0431ee92fce09860c5a06   \n",
       "4  00042b26cf59d7ce69dfabb4e55b4fd9  58dbd0b2d70206bf40e62cd34e84d795   \n",
       "\n",
       "                         product_id                         seller_id  \\\n",
       "0  4244733e06e7ecb4970a6e2683c13e61  48436dade18ac8b2bce089ec2a041202   \n",
       "1  e5f2d52b802189ee658865ca93d83a8f  dd7ddc04e1b6c2c614352b383efe2d36   \n",
       "2  c777355d18b72b67abbeef9df44fd0fd  5b51032eddd242adc84c38acab88f23d   \n",
       "3  7634da152a4610f1595efa32f14722fc  9d7a1d34a5052409006425275ba1c2b4   \n",
       "4  ac6c3623068f30de03045865e4e10089  df560393f3a51e74553ab94004ba5c87   \n",
       "\n",
       "   order_item_id  shipping_limit_date   price  freight_value  \\\n",
       "0              1  2017-09-19 09:45:35   58.90          13.29   \n",
       "1              1  2017-05-03 11:05:13  239.90          19.93   \n",
       "2              1  2018-01-18 14:48:30  199.00          17.87   \n",
       "3              1  2018-08-15 10:10:18   12.99          12.79   \n",
       "4              1  2017-02-13 13:57:51  199.90          18.14   \n",
       "\n",
       "   seller_zip_code_prefix    seller_city  ...          customer_city  \\\n",
       "0                   27277  volta redonda  ...  campos dos goytacazes   \n",
       "1                    3471      sao paulo  ...        santa fe do sul   \n",
       "2                   37564  borda da mata  ...          para de minas   \n",
       "3                   14403         franca  ...                atibaia   \n",
       "4                   87900         loanda  ...        varzea paulista   \n",
       "\n",
       "   customer_state  payment_installments  review_score  order_status  \\\n",
       "0              RJ                   2.0           5.0     delivered   \n",
       "1              SP                   3.0           4.0     delivered   \n",
       "2              MG                   5.0           5.0     delivered   \n",
       "3              SP                   2.0           4.0     delivered   \n",
       "4              SP                   3.0           5.0     delivered   \n",
       "\n",
       "   order_purchase_timestamp    order_approved_at  \\\n",
       "0       2017-09-13 08:59:02  2017-09-13 09:45:35   \n",
       "1       2017-04-26 10:53:06  2017-04-26 11:05:13   \n",
       "2       2018-01-14 14:33:31  2018-01-14 14:48:30   \n",
       "3       2018-08-08 10:00:35  2018-08-08 10:10:18   \n",
       "4       2017-02-04 13:57:51  2017-02-04 14:10:13   \n",
       "\n",
       "   order_delivered_carrier_date  order_delivered_customer_date  \\\n",
       "0           2017-09-19 18:34:16            2017-09-20 23:43:48   \n",
       "1           2017-05-04 14:35:00            2017-05-12 16:04:24   \n",
       "2           2018-01-16 12:36:48            2018-01-22 13:19:16   \n",
       "3           2018-08-10 13:28:00            2018-08-14 13:32:39   \n",
       "4           2017-02-16 09:46:09            2017-03-01 16:42:31   \n",
       "\n",
       "   order_estimated_delivery_date  \n",
       "0            2017-09-29 00:00:00  \n",
       "1            2017-05-15 00:00:00  \n",
       "2            2018-02-05 00:00:00  \n",
       "3            2018-08-20 00:00:00  \n",
       "4            2017-03-17 00:00:00  \n",
       "\n",
       "[5 rows x 33 columns]"
      ]
     },
     "execution_count": 2,
     "metadata": {},
     "output_type": "execute_result"
    }
   ],
   "source": [
    "# Load Data\n",
    "df= pd.read_csv('data/raw/dac_olist.csv')\n",
    "# Check Loaded Data\n",
    "df.head()"
   ]
  },
  {
   "cell_type": "code",
   "execution_count": 3,
   "id": "38a3d70d",
   "metadata": {},
   "outputs": [
    {
     "name": "stdout",
     "output_type": "stream",
     "text": [
      "<class 'pandas.core.frame.DataFrame'>\n",
      "RangeIndex: 112650 entries, 0 to 112649\n",
      "Data columns (total 33 columns):\n",
      " #   Column                         Non-Null Count   Dtype  \n",
      "---  ------                         --------------   -----  \n",
      " 0   order_id                       112650 non-null  object \n",
      " 1   customer_id                    112650 non-null  object \n",
      " 2   product_id                     112650 non-null  object \n",
      " 3   seller_id                      112650 non-null  object \n",
      " 4   order_item_id                  112650 non-null  int64  \n",
      " 5   shipping_limit_date            112650 non-null  object \n",
      " 6   price                          112650 non-null  float64\n",
      " 7   freight_value                  112650 non-null  float64\n",
      " 8   seller_zip_code_prefix         112650 non-null  int64  \n",
      " 9   seller_city                    112650 non-null  object \n",
      " 10  seller_state                   112650 non-null  object \n",
      " 11  seller_lat                     109568 non-null  float64\n",
      " 12  seller_lng                     109568 non-null  float64\n",
      " 13  product_name_lenght            111047 non-null  float64\n",
      " 14  product_description_lenght     111047 non-null  float64\n",
      " 15  product_photos_qty             111047 non-null  float64\n",
      " 16  product_weight_g               112632 non-null  float64\n",
      " 17  product_length_cm              112632 non-null  float64\n",
      " 18  product_height_cm              112632 non-null  float64\n",
      " 19  product_width_cm               112632 non-null  float64\n",
      " 20  product_category_name_english  111023 non-null  object \n",
      " 21  customer_lat                   112303 non-null  float64\n",
      " 22  customer_lng                   112303 non-null  float64\n",
      " 23  customer_city                  112303 non-null  object \n",
      " 24  customer_state                 112303 non-null  object \n",
      " 25  payment_installments           112647 non-null  float64\n",
      " 26  review_score                   112647 non-null  float64\n",
      " 27  order_status                   112650 non-null  object \n",
      " 28  order_purchase_timestamp       112650 non-null  object \n",
      " 29  order_approved_at              112635 non-null  object \n",
      " 30  order_delivered_carrier_date   111456 non-null  object \n",
      " 31  order_delivered_customer_date  110196 non-null  object \n",
      " 32  order_estimated_delivery_date  112650 non-null  object \n",
      "dtypes: float64(15), int64(2), object(16)\n",
      "memory usage: 28.4+ MB\n"
     ]
    }
   ],
   "source": [
    "# Check for null values and Datatype\n",
    "df.info()"
   ]
  },
  {
   "cell_type": "markdown",
   "id": "30944de2",
   "metadata": {},
   "source": [
    "From this we can see that there are quite a bit of null values for each column, however outside of seller_lat and seller_lng, the other columns are not missing enough data to be statistically significant. Also we can see that for our purposes a lot of these columns could be dropped, since we primarily care about Seller and Buyer relationship/coverage, sales volume, and sales operation."
   ]
  },
  {
   "cell_type": "code",
   "execution_count": 4,
   "id": "86148813",
   "metadata": {},
   "outputs": [
    {
     "name": "stdout",
     "output_type": "stream",
     "text": [
      "<class 'pandas.core.frame.DataFrame'>\n",
      "Index: 107644 entries, 1 to 112649\n",
      "Data columns (total 22 columns):\n",
      " #   Column                         Non-Null Count   Dtype  \n",
      "---  ------                         --------------   -----  \n",
      " 0   order_id                       107644 non-null  object \n",
      " 1   customer_id                    107644 non-null  object \n",
      " 2   product_id                     107644 non-null  object \n",
      " 3   seller_id                      107644 non-null  object \n",
      " 4   order_item_id                  107644 non-null  int64  \n",
      " 5   price                          107644 non-null  float64\n",
      " 6   freight_value                  107644 non-null  float64\n",
      " 7   seller_zip_code_prefix         107644 non-null  int64  \n",
      " 8   seller_city                    107644 non-null  object \n",
      " 9   seller_state                   107644 non-null  object \n",
      " 10  seller_lat                     107644 non-null  float64\n",
      " 11  seller_lng                     107644 non-null  float64\n",
      " 12  product_weight_g               107644 non-null  float64\n",
      " 13  product_length_cm              107644 non-null  float64\n",
      " 14  product_height_cm              107644 non-null  float64\n",
      " 15  product_width_cm               107644 non-null  float64\n",
      " 16  product_category_name_english  107644 non-null  object \n",
      " 17  customer_lat                   107644 non-null  float64\n",
      " 18  customer_lng                   107644 non-null  float64\n",
      " 19  customer_city                  107644 non-null  object \n",
      " 20  customer_state                 107644 non-null  object \n",
      " 21  order_purchase_timestamp       107644 non-null  object \n",
      "dtypes: float64(10), int64(2), object(10)\n",
      "memory usage: 18.9+ MB\n"
     ]
    }
   ],
   "source": [
    "# Columns to be dropped\n",
    "columns_to_drop = ['shipping_limit_date', 'product_name_lenght', 'product_description_lenght', \n",
    "                   'product_photos_qty', 'payment_installments', 'review_score', \n",
    "                   'order_status', 'order_approved_at', 'order_delivered_carrier_date', \n",
    "                   'order_estimated_delivery_date', 'order_delivered_customer_date']\n",
    "\n",
    "# Dropping the specified columns\n",
    "df = df.drop(columns=columns_to_drop)\n",
    "\n",
    "# Dropping all rows with null values\n",
    "df = df.dropna()\n",
    "\n",
    "# Check null values and remaining columns\n",
    "df.info()"
   ]
  },
  {
   "cell_type": "markdown",
   "id": "25b67c22",
   "metadata": {},
   "source": [
    "Now we can see that we have gotten rid of columns that isn't necessary for efficiency and the amount of non-null values across all columns are consistent. Next we will backup the dataframe into it's own .csv file."
   ]
  },
  {
   "cell_type": "code",
   "execution_count": 5,
   "id": "df2c02f0",
   "metadata": {},
   "outputs": [],
   "source": [
    "# Exporting the cleaned DataFrame 'df' to a CSV file\n",
    "export_csv_path = 'data/clean/dac_olist_business_development_cleaned.csv'\n",
    "df.to_csv(export_csv_path, index=False)"
   ]
  },
  {
   "cell_type": "markdown",
   "id": "77205e0a",
   "metadata": {},
   "source": [
    "## Explore Buyer-Seller Dynamics\n",
    "Now that the data is cleaned, we can start exploring buyer-seller dynamics. To start out, it would be best to look at where all the buyers and sellers are located.\n",
    "\n",
    "### Mapping Buyer and Sellers\n",
    "To map the buyers and sellers we will use the folium libary."
   ]
  },
  {
   "cell_type": "code",
   "execution_count": 6,
   "id": "3ea91c50",
   "metadata": {},
   "outputs": [],
   "source": [
    "# Load Data\n",
    "df= pd.read_csv('data/clean/dac_olist_business_development_cleaned.csv')\n",
    "\n",
    "# Create a base map\n",
    "map = folium.Map(location=[-14.235004, -51.92528], zoom_start=4)\n",
    "\n",
    "# Create separate MarkerCluster objects for buyers and sellers\n",
    "buyer_cluster = MarkerCluster(name='Buyers', icon_create_function=None).add_to(map)\n",
    "seller_cluster = MarkerCluster(name='Sellers', icon_create_function=None).add_to(map)\n",
    "\n",
    "# Adding clustered markers for buyers\n",
    "for _, row in df.iterrows():\n",
    "    folium.Marker(\n",
    "        location=[row['customer_lat'], row['customer_lng']],\n",
    "        popup='Buyer',\n",
    "        icon=folium.Icon(color=\"blue\", icon=\"shopping-cart\")\n",
    "    ).add_to(buyer_cluster)\n",
    "\n",
    "# Adding clustered markers for sellers\n",
    "for _, row in df.iterrows():\n",
    "    folium.Marker(\n",
    "        location=[row['seller_lat'], row['seller_lng']],\n",
    "        popup='Seller',\n",
    "        icon=folium.Icon(color=\"green\", icon=\"briefcase\")\n",
    "    ).add_to(seller_cluster)\n",
    "\n",
    "# Add LayerControl to toggle between clusters\n",
    "folium.LayerControl().add_to(map)\n",
    "\n",
    "# Save the map\n",
    "map.save('maps/buyer_seller_map.html')"
   ]
  },
  {
   "cell_type": "code",
   "execution_count": 17,
   "id": "d3b52132",
   "metadata": {},
   "outputs": [
    {
     "data": {
      "text/html": [
       "\n",
       "        <iframe\n",
       "            width=\"900\"\n",
       "            height=\"500\"\n",
       "            src=\"maps/buyer_seller_map.html\"\n",
       "            frameborder=\"0\"\n",
       "            allowfullscreen\n",
       "            \n",
       "        ></iframe>\n",
       "        "
      ],
      "text/plain": [
       "<IPython.lib.display.IFrame at 0x1843fbe8850>"
      ]
     },
     "execution_count": 17,
     "metadata": {},
     "output_type": "execute_result"
    }
   ],
   "source": [
    "# Display Map\n",
    "IFrame(src='maps/buyer_seller_map.html', width=900, height=500)"
   ]
  },
  {
   "cell_type": "markdown",
   "id": "723cb994",
   "metadata": {},
   "source": [
    "To allow the html to open more efficiently the pins of each geo-coordinate is clustered together. However to make it easier to separate sellers and buyers, once you zoom in enough on the map, the sellers and buyers will be represented by different clusters.  Once individual labels start to appear the sellers are reprented by breifcase icon, while the buyers are represented by the shopping cart icon. To reduce the amount of cluster we can make it so that coordinates within a 20 miles radius of each other shows up as one pin."
   ]
  },
  {
   "cell_type": "code",
   "execution_count": 8,
   "id": "fc8f05f3",
   "metadata": {},
   "outputs": [],
   "source": [
    "# Define a function to cluster coordinates with DBSCAN\n",
    "def cluster_coordinates(df, eps_in_miles, coordinates_columns):\n",
    "    # Earth's radius in miles\n",
    "    earth_radius_miles = 3958.8\n",
    "\n",
    "    # Convert epsilon to radians for use in haversine formula\n",
    "    eps_in_radians = eps_in_miles / earth_radius_miles\n",
    "\n",
    "    # Extract latitude and longitude\n",
    "    coords = df[coordinates_columns].to_numpy()\n",
    "\n",
    "    # Perform DBSCAN clustering\n",
    "    db = DBSCAN(eps=eps_in_radians, min_samples=1, algorithm='ball_tree', metric='haversine').fit(np.radians(coords))\n",
    "\n",
    "    # Add cluster labels to the DataFrame\n",
    "    df['cluster'] = db.labels_\n",
    "\n",
    "    return df\n",
    "\n",
    "# Apply clustering to buyer and seller coordinates\n",
    "buyer_columns = ['customer_lat', 'customer_lng']\n",
    "seller_columns = ['seller_lat', 'seller_lng']\n",
    "\n",
    "df_map_buyers = cluster_coordinates(df, 20, buyer_columns)\n",
    "df_map_sellers = cluster_coordinates(df, 20, seller_columns)\n",
    "\n",
    "# Create a base map\n",
    "map = folium.Map(location=[-14.235004, -51.92528], zoom_start=4)\n",
    "\n",
    "# Create a MarkerCluster object\n",
    "buyer_cluster = MarkerCluster().add_to(map)\n",
    "seller_cluster = MarkerCluster().add_to(map)\n",
    "\n",
    "# Adding clustered markers for buyers\n",
    "for cluster_num in df_map_buyers['cluster'].unique():\n",
    "    cluster_data = df_map_buyers[df_map_buyers['cluster'] == cluster_num]\n",
    "    if not cluster_data.empty:\n",
    "        # Use the mean of the cluster coordinates\n",
    "        mean_lat = cluster_data['customer_lat'].mean()\n",
    "        mean_lng = cluster_data['customer_lng'].mean()\n",
    "        folium.Marker(\n",
    "            location=[mean_lat, mean_lng],\n",
    "            popup=f'Buyer Cluster {cluster_num}',\n",
    "            icon=folium.Icon(color=\"blue\", icon=\"shopping-cart\")\n",
    "        ).add_to(buyer_cluster)\n",
    "\n",
    "# Adding clustered markers for sellers\n",
    "for cluster_num in df_map_sellers['cluster'].unique():\n",
    "    cluster_data = df_map_sellers[df_map_sellers['cluster'] == cluster_num]\n",
    "    if not cluster_data.empty:\n",
    "        # Use the mean of the cluster coordinates\n",
    "        mean_lat = cluster_data['seller_lat'].mean()\n",
    "        mean_lng = cluster_data['seller_lng'].mean()\n",
    "        folium.Marker(\n",
    "            location=[mean_lat, mean_lng],\n",
    "            popup=f'Seller Cluster {cluster_num}',\n",
    "            icon=folium.Icon(color=\"green\", icon=\"briefcase\")\n",
    "        ).add_to(seller_cluster)\n",
    "\n",
    "# Save the map\n",
    "map.save('maps/buyer_seller_map_optimized.html')"
   ]
  },
  {
   "cell_type": "code",
   "execution_count": 9,
   "id": "85d5948f",
   "metadata": {},
   "outputs": [
    {
     "data": {
      "text/html": [
       "\n",
       "        <iframe\n",
       "            width=\"900\"\n",
       "            height=\"500\"\n",
       "            src=\"maps/buyer_seller_map_optimized.html\"\n",
       "            frameborder=\"0\"\n",
       "            allowfullscreen\n",
       "            \n",
       "        ></iframe>\n",
       "        "
      ],
      "text/plain": [
       "<IPython.lib.display.IFrame at 0x1a4abc9dd50>"
      ]
     },
     "execution_count": 9,
     "metadata": {},
     "output_type": "execute_result"
    }
   ],
   "source": [
    "# Display Map\n",
    "IFrame(src='maps/buyer_seller_map_optimized.html', width=900, height=500)"
   ]
  },
  {
   "cell_type": "markdown",
   "id": "10cededa",
   "metadata": {},
   "source": [
    "Now with the pins grouped it is easier to see the seller and buyer distribution. For example we see around Sao Paulo there is a even distribution of buyers and sellers. We can also see there are sellers in Santa Rosa, Argentina, while the closelest buyer is around Pelotas and Rio Grande Brasil. This would suggest maybe there isn't a need to have sellers in Argentina unless they are able to sell goods for a profit at a low enough price where the increase cost of shipping is worth the effort. We can further look at buyer and seller distribution with the following graph, which shows the top 10 cities and states with the most buyers and sellers."
   ]
  },
  {
   "cell_type": "code",
   "execution_count": 10,
   "id": "de8b4d0f",
   "metadata": {},
   "outputs": [
    {
     "data": {
      "image/png": "[encoded data removed]",
      "text/plain": [
       "<Figure size 1500x1000 with 4 Axes>"
      ]
     },
     "metadata": {},
     "output_type": "display_data"
    }
   ],
   "source": [
    "# Load Data\n",
    "df= pd.read_csv('data/clean/dac_olist_business_development_cleaned.csv')\n",
    "\n",
    "# Supress warnings\n",
    "warnings.filterwarnings('ignore', category=FutureWarning)\n",
    "\n",
    "# Analyzing the most common seller and buyer locations\n",
    "top_seller_cities = df['seller_city'].value_counts().head(10)\n",
    "top_buyer_cities = df['customer_city'].value_counts().head(10)\n",
    "\n",
    "top_seller_states = df['seller_state'].value_counts().head(10)\n",
    "top_buyer_states = df['customer_state'].value_counts().head(10)\n",
    "\n",
    "# Plotting the results\n",
    "plt.figure(figsize=(15, 10))\n",
    "\n",
    "plt.subplot(2, 2, 1)\n",
    "sns.barplot(x=top_seller_cities.values, y=top_seller_cities.index, palette=\"viridis\").set_title('Top 10 Seller Cities')\n",
    "\n",
    "plt.subplot(2, 2, 2)\n",
    "sns.barplot(x=top_buyer_cities.values, y=top_buyer_cities.index, palette=\"viridis\").set_title('Top 10 Buyer Cities')\n",
    "\n",
    "plt.subplot(2, 2, 3)\n",
    "sns.barplot(x=top_seller_states.values, y=top_seller_states.index, palette=\"mako\").set_title('Top 10 Seller States')\n",
    "\n",
    "plt.subplot(2, 2, 4)\n",
    "sns.barplot(x=top_buyer_states.values, y=top_buyer_states.index, palette=\"mako\").set_title('Top 10 Buyer States')\n",
    "\n",
    "plt.tight_layout()\n",
    "plt.show()"
   ]
  },
  {
   "cell_type": "markdown",
   "id": "ef21fd6d",
   "metadata": {},
   "source": [
    "From these charts we can infer a few things. In terms of cities Sao Paulo could be considered a saturated market. Both the city of Sao Paulo and the state of Sao Paulo are the top states and cities with the most transactions. However as we go down, we can see that there is a high demand for products at Rio de Janeiro, but the suppliers are not at the same level, which suggests there is possibility of growth there. This discrepency can be seen through out all the cities and states outside of Sao Paulo, which suggests there are many areas where the number of sellers could be increased. This also suggests buyer and seller distribution isn't as balanced outside of Sao Paulo. To further explore this, we can look at the percentage of transactions where buyers buy from sellers within the same city or state. "
   ]
  },
  {
   "cell_type": "code",
   "execution_count": 11,
   "id": "3d59aa82",
   "metadata": {},
   "outputs": [
    {
     "name": "stdout",
     "output_type": "stream",
     "text": [
      "5.299877373564713 of orders are from buyers and sellers located in the same city.\n",
      "36.142283824458396 of orders involve buyers and sellers from the same state.\n"
     ]
    }
   ],
   "source": [
    "# Creating a new column to check if the seller and buyer are in the same city\n",
    "df['same_city'] = df['seller_city'] == df['customer_city']\n",
    "\n",
    "# Creating a new column to check if the seller and buyer are in the same state\n",
    "df['same_state'] = df['seller_state'] == df['customer_state']\n",
    "\n",
    "# Calculating the percentage of orders from the same city and same state\n",
    "same_city_percentage = df['same_city'].mean() * 100\n",
    "same_state_percentage = df['same_state'].mean() * 100\n",
    "\n",
    "print(f\"{same_city_percentage} of orders are from buyers and sellers located in the same city.\")\n",
    "print(f\"{same_state_percentage} of orders involve buyers and sellers from the same state.\")"
   ]
  },
  {
   "cell_type": "markdown",
   "id": "11384f76",
   "metadata": {},
   "source": [
    "From these numbers we can see that not a huge percentage buy from the same city, but there is a significant amount of people buying from the same state. Looking at the buyer/seller distribution from before, it is highly likely that if buyers have the option to buy from the same city they would, but the coverage may not be sufficient in their area,  so they opt for the second best option, which is to buy from the same state. This could also mean that buyers could be factoring in shipping costs in their purchases.\n",
    "\n",
    "Next we will try to calculate transaction volumes."
   ]
  },
  {
   "cell_type": "code",
   "execution_count": 6,
   "id": "d12ed8e7",
   "metadata": {},
   "outputs": [
    {
     "name": "stdout",
     "output_type": "stream",
     "text": [
      "   seller_lat  seller_lng seller_city seller_state  sale_volume\n",
      "0  -36.605374  -64.283946  santa rosa           RS            4\n",
      "1  -32.079513  -52.157678  rio grande           RS           16\n",
      "2  -31.772413  -52.343992     pelotas           RS            2\n",
      "3  -31.337669  -54.103716        bage           RS            1\n",
      "4  -30.159469  -50.832839      viamao           RS           76\n",
      "   customer_lat  customer_lng            customer_city customer_state  \\\n",
      "0    -36.605374    -64.283946               santa rosa             RS   \n",
      "1    -34.586422    -58.732101              santa maria             RJ   \n",
      "2    -33.691423    -53.480161                     chui             RS   \n",
      "3    -33.525601    -53.366420  santa vitoria do palmar             RS   \n",
      "4    -32.563952    -53.384720                 jaguarao             RS   \n",
      "\n",
      "   buy_volume  \n",
      "0          11  \n",
      "1           1  \n",
      "2           5  \n",
      "3          15  \n",
      "4           8  \n"
     ]
    }
   ],
   "source": [
    "# Load Data\n",
    "df= pd.read_csv('data/clean/dac_olist_business_development_cleaned.csv')\n",
    "\n",
    "# Calculate sale volume for each unique seller geo-coordinate along with city and state\n",
    "seller_sales_volume = df.groupby(['seller_lat', 'seller_lng', 'seller_city', 'seller_state']).size().reset_index(name='sale_volume')\n",
    "\n",
    "# Calculate buy volume for each unique buyer geo-coordinate along with city and state\n",
    "buyer_purchase_volume = df.groupby(['customer_lat', 'customer_lng', 'customer_city', 'customer_state']).size().reset_index(name='buy_volume')\n",
    "\n",
    "# Save Data Frames\n",
    "export_seller_csv_path = 'data/calculated_outputs/seller_sales_volume.csv'\n",
    "seller_sales_volume.to_csv(export_seller_csv_path, index=False)\n",
    "export_buyer_csv_path = 'data/calculated_outputs/buyer_purchase_volume.csv'  \n",
    "buyer_purchase_volume.to_csv(export_buyer_csv_path, index=False)\n",
    "\n",
    "# Display Data Frames\n",
    "print(seller_sales_volume.head())\n",
    "print(buyer_purchase_volume.head())"
   ]
  },
  {
   "cell_type": "code",
   "execution_count": 18,
   "id": "d2957af5",
   "metadata": {},
   "outputs": [],
   "source": [
    "# Load Data Frames\n",
    "import_seller_csv = pd.read_csv('data/calculated_outputs/seller_sales_volume.csv')\n",
    "import_buyer_csv = pd.read_csv('data/calculated_outputs/buyer_purchase_volume.csv')\n",
    "\n",
    "# Initialize the map\n",
    "volume_map = folium.Map(location=[-14.235004, -51.92528], zoom_start=4)\n",
    "\n",
    "# Function to add scaled circle markers\n",
    "def add_scaled_circles(df, color, map_object):\n",
    "    for _, row in df.iterrows():\n",
    "        # Building popup text and applying a scaling factor for the radius\n",
    "        if color == 'green':  # Seller\n",
    "            popup_text = f\"Seller in {row['seller_city']}, {row['seller_state']} - Sales Count: {row['sale_volume']}\"\n",
    "            lat_col, lng_col = 'seller_lat', 'seller_lng'\n",
    "            scaled_radius = np.sqrt(row['sale_volume'])  # Adjust scaling factor as needed\n",
    "        else:  # Buyer\n",
    "            popup_text = f\"Buyer in {row['customer_city']}, {row['customer_state']} - Purchase Count: {row['buy_volume']}\"\n",
    "            lat_col, lng_col = 'customer_lat', 'customer_lng'\n",
    "            scaled_radius = np.sqrt(row['buy_volume'])  # Adjust scaling factor as needed\n",
    "        # Add CircleMarker to the map\n",
    "        folium.CircleMarker(\n",
    "            location=[row[lat_col], row[lng_col]],\n",
    "            radius=scaled_radius,\n",
    "            popup=popup_text,\n",
    "            color=color,\n",
    "            fill=True,\n",
    "            fill_color=color\n",
    "        ).add_to(map_object)\n",
    "\n",
    "# Adding scaled markers for sellers and buyers\n",
    "add_scaled_circles(import_seller_csv, 'green', volume_map)\n",
    "add_scaled_circles(import_buyer_csv, 'blue', volume_map)\n",
    "\n",
    "# Save the map\n",
    "volume_map.save('maps/buyer_seller_volume_map.html')"
   ]
  },
  {
   "cell_type": "code",
   "execution_count": 19,
   "id": "fe48c241",
   "metadata": {},
   "outputs": [
    {
     "data": {
      "text/html": [
       "\n",
       "        <iframe\n",
       "            width=\"900\"\n",
       "            height=\"500\"\n",
       "            src=\"maps/buyer_seller_volume_map.html\"\n",
       "            frameborder=\"0\"\n",
       "            allowfullscreen\n",
       "            \n",
       "        ></iframe>\n",
       "        "
      ],
      "text/plain": [
       "<IPython.lib.display.IFrame at 0x1843c4fcd10>"
      ]
     },
     "execution_count": 19,
     "metadata": {},
     "output_type": "execute_result"
    }
   ],
   "source": [
    "# Display Map\n",
    "IFrame(src='maps/buyer_seller_volume_map.html', width=900, height=500)"
   ]
  },
  {
   "cell_type": "markdown",
   "id": "1bafe843",
   "metadata": {},
   "source": [
    "Now we can visualize the volume of sales on the map, we can see that the sellers that are doing the most business is concentrated on Brazilian coastline, which coincides to where most of the sellers are, but there are enough purchasing power inland to demand more seller coverage there. "
   ]
  },
  {
   "cell_type": "code",
   "execution_count": null,
   "id": "aba304f0",
   "metadata": {},
   "outputs": [],
   "source": []
  }
 ],
 "metadata": {
  "kernelspec": {
   "display_name": "Python 3 (ipykernel)",
   "language": "python",
   "name": "python3"
  },
  "language_info": {
   "codemirror_mode": {
    "name": "ipython",
    "version": 3
   },
   "file_extension": ".py",
   "mimetype": "text/x-python",
   "name": "python",
   "nbconvert_exporter": "python",
   "pygments_lexer": "ipython3",
   "version": "3.11.5"
  }
 },
 "nbformat": 4,
 "nbformat_minor": 5
}
